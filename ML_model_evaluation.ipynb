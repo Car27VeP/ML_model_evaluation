{
 "cells": [
  {
   "cell_type": "markdown",
   "metadata": {},
   "source": [
    "## Descripción del proyecto\n",
    "\n",
    "La compañía móvil Megaline no está satisfecha al ver que muchos de sus clientes utilizan planes heredados. Quieren desarrollar un modelo que pueda analizar el comportamiento de los clientes y recomendar uno de los nuevos planes de Megaline: Smart o Ultra.\n",
    "\n",
    "Tienes acceso a los datos de comportamiento de los suscriptores que ya se han cambiado a los planes nuevos (del proyecto del sprint de Análisis estadístico de datos). Para esta tarea de clasificación debes crear un modelo que escoja el plan correcto. Como ya hiciste el paso de procesar los datos, puedes lanzarte directo a crear el modelo.\n",
    "\n",
    "Desarrolla un modelo con la mayor exactitud posible. En este proyecto, el umbral de exactitud es 0.75. Usa el dataset para comprobar la exactitud."
   ]
  },
  {
   "cell_type": "markdown",
   "metadata": {},
   "source": [
    "## Paso 0. Librerías"
   ]
  },
  {
   "cell_type": "code",
   "execution_count": 1,
   "metadata": {},
   "outputs": [],
   "source": [
    "import pandas as pd\n",
    "import random\n",
    "from sklearn.metrics import mean_squared_error\n",
    "from sklearn.linear_model import LogisticRegression\n",
    "from sklearn.tree import DecisionTreeClassifier\n",
    "from sklearn.ensemble import RandomForestClassifier\n",
    "from sklearn.model_selection import train_test_split\n",
    "from sklearn.metrics import accuracy_score"
   ]
  },
  {
   "cell_type": "markdown",
   "metadata": {},
   "source": [
    "## Paso 1. Carga de datos."
   ]
  },
  {
   "cell_type": "code",
   "execution_count": 2,
   "metadata": {},
   "outputs": [],
   "source": [
    "df = pd.read_csv('./ignore/users_behavior.csv')"
   ]
  },
  {
   "cell_type": "code",
   "execution_count": 3,
   "metadata": {},
   "outputs": [
    {
     "data": {
      "text/html": [
       "<div>\n",
       "<style scoped>\n",
       "    .dataframe tbody tr th:only-of-type {\n",
       "        vertical-align: middle;\n",
       "    }\n",
       "\n",
       "    .dataframe tbody tr th {\n",
       "        vertical-align: top;\n",
       "    }\n",
       "\n",
       "    .dataframe thead th {\n",
       "        text-align: right;\n",
       "    }\n",
       "</style>\n",
       "<table border=\"1\" class=\"dataframe\">\n",
       "  <thead>\n",
       "    <tr style=\"text-align: right;\">\n",
       "      <th></th>\n",
       "      <th>calls</th>\n",
       "      <th>minutes</th>\n",
       "      <th>messages</th>\n",
       "      <th>mb_used</th>\n",
       "      <th>is_ultra</th>\n",
       "    </tr>\n",
       "  </thead>\n",
       "  <tbody>\n",
       "    <tr>\n",
       "      <th>0</th>\n",
       "      <td>40.0</td>\n",
       "      <td>311.90</td>\n",
       "      <td>83.0</td>\n",
       "      <td>19915.42</td>\n",
       "      <td>0</td>\n",
       "    </tr>\n",
       "    <tr>\n",
       "      <th>1</th>\n",
       "      <td>85.0</td>\n",
       "      <td>516.75</td>\n",
       "      <td>56.0</td>\n",
       "      <td>22696.96</td>\n",
       "      <td>0</td>\n",
       "    </tr>\n",
       "    <tr>\n",
       "      <th>2</th>\n",
       "      <td>77.0</td>\n",
       "      <td>467.66</td>\n",
       "      <td>86.0</td>\n",
       "      <td>21060.45</td>\n",
       "      <td>0</td>\n",
       "    </tr>\n",
       "    <tr>\n",
       "      <th>3</th>\n",
       "      <td>106.0</td>\n",
       "      <td>745.53</td>\n",
       "      <td>81.0</td>\n",
       "      <td>8437.39</td>\n",
       "      <td>1</td>\n",
       "    </tr>\n",
       "    <tr>\n",
       "      <th>4</th>\n",
       "      <td>66.0</td>\n",
       "      <td>418.74</td>\n",
       "      <td>1.0</td>\n",
       "      <td>14502.75</td>\n",
       "      <td>0</td>\n",
       "    </tr>\n",
       "  </tbody>\n",
       "</table>\n",
       "</div>"
      ],
      "text/plain": [
       "   calls  minutes  messages   mb_used  is_ultra\n",
       "0   40.0   311.90      83.0  19915.42         0\n",
       "1   85.0   516.75      56.0  22696.96         0\n",
       "2   77.0   467.66      86.0  21060.45         0\n",
       "3  106.0   745.53      81.0   8437.39         1\n",
       "4   66.0   418.74       1.0  14502.75         0"
      ]
     },
     "execution_count": 3,
     "metadata": {},
     "output_type": "execute_result"
    }
   ],
   "source": [
    "df.head()"
   ]
  },
  {
   "cell_type": "code",
   "execution_count": 4,
   "metadata": {},
   "outputs": [
    {
     "name": "stdout",
     "output_type": "stream",
     "text": [
      "<class 'pandas.core.frame.DataFrame'>\n",
      "RangeIndex: 3214 entries, 0 to 3213\n",
      "Data columns (total 5 columns):\n",
      " #   Column    Non-Null Count  Dtype  \n",
      "---  ------    --------------  -----  \n",
      " 0   calls     3214 non-null   float64\n",
      " 1   minutes   3214 non-null   float64\n",
      " 2   messages  3214 non-null   float64\n",
      " 3   mb_used   3214 non-null   float64\n",
      " 4   is_ultra  3214 non-null   int64  \n",
      "dtypes: float64(4), int64(1)\n",
      "memory usage: 125.7 KB\n"
     ]
    }
   ],
   "source": [
    "df.info()"
   ]
  },
  {
   "cell_type": "markdown",
   "metadata": {},
   "source": [
    "Descripción de datos\n",
    "Cada observación en el dataset contiene información del comportamiento mensual sobre un usuario. La información dada es la siguiente:\n",
    "\n",
    "- `сalls`: número de llamadas,\n",
    "- `minutes`: duración total de la llamada en minutos,\n",
    "- `messages`: número de mensajes de texto,\n",
    "- `mb_used`: Tráfico de Internet utilizado en MB,\n",
    "- `is_ultra`: plan para el mes actual (Ultra - 1, Smart - 0)."
   ]
  },
  {
   "cell_type": "markdown",
   "metadata": {},
   "source": [
    "## Paso 2. Segmentación de datos.\n",
    "\n",
    "Segmentar los datos fuente en un conjunto de entrenamiento, uno de validación (25%) y uno de prueba (75%).\n"
   ]
  },
  {
   "cell_type": "code",
   "execution_count": 5,
   "metadata": {},
   "outputs": [],
   "source": [
    "# df_train, df_valid = train_test_split(df, test_size=0.25, random_state=12345)\n",
    "\n",
    "# print(f\"Tamaño del dataset de entranameinto: {df_train.shape}\")\n",
    "# print(f\"Tamaño del dataset de validación: {df_valid.shape}\")"
   ]
  },
  {
   "cell_type": "code",
   "execution_count": 6,
   "metadata": {},
   "outputs": [
    {
     "name": "stdout",
     "output_type": "stream",
     "text": [
      "Tamaño de las características de enetrenamiento: (2410, 4)\n",
      "Tamaño del objetivo de entreamiento: (2410,)\n",
      "Tamaño de las características de validación: (804, 4)\n",
      "Tamaño del objetivo de validación: (804,)\n"
     ]
    }
   ],
   "source": [
    "features = df.drop(['is_ultra'],axis=1)\n",
    "target = df['is_ultra']\n",
    "\n",
    "features_train, features_valid, target_train, target_valid = train_test_split(features, target,test_size=0.25, random_state=12345)\n",
    "\n",
    "print(f\"Tamaño de las características de enetrenamiento: {features_train.shape}\")\n",
    "print(f\"Tamaño del objetivo de entreamiento: {target_train.shape}\")\n",
    "print(f\"Tamaño de las características de validación: {features_valid.shape}\")\n",
    "print(f\"Tamaño del objetivo de validación: {target_valid.shape}\")"
   ]
  },
  {
   "cell_type": "markdown",
   "metadata": {},
   "source": [
    "## Paso 3. Probando diferentes modelos de clasificación.\n",
    "\n",
    "Investiga la calidad de diferentes modelos cambiando los hiperparámetros. Describe brevemente los hallazgos del estudio."
   ]
  },
  {
   "cell_type": "markdown",
   "metadata": {},
   "source": [
    "### Árboles de desición.\n",
    "\n",
    "Debido a que el sobreajuste empieza afectar a la exactitud de nustros árboles, mostraremos la exactitud que tuvo el modelo con hiperparametros de profundidad de 1 a 10."
   ]
  },
  {
   "cell_type": "code",
   "execution_count": 7,
   "metadata": {},
   "outputs": [],
   "source": [
    "# best_depth = 0\n",
    "# best_score = 0\n",
    "# print(f\"Árboles de Desición\")\n",
    "# for depth in range(1,11):\n",
    "#     model = DecisionTreeClassifier(random_state=54321, max_depth=depth)\n",
    "#     model.fit(features_train,target_train)\n",
    "#     valid_predictions = model.predict(features_valid)\n",
    "#     score = accuracy_score(target_valid,valid_predictions)\n",
    "#     print(f\"Exactitud de max_depth igual a {depth}\")\n",
    "#     print(f\"Conjunto de prueba: {score}\\n\")\n",
    "    \n",
    "#     if score > best_score:\n",
    "#         best_depth = depth\n",
    "#         best_score = score\n",
    "        \n",
    "# print(f\"max_depth del modelo con mayor exactitud: {best_depth}\")\n",
    "# print(f\"Mejor exactitud: {best_score}\")"
   ]
  },
  {
   "cell_type": "code",
   "execution_count": 8,
   "metadata": {},
   "outputs": [
    {
     "name": "stdout",
     "output_type": "stream",
     "text": [
      "Árboles de Desición\n",
      "Exactitud de max_depth igual a 1\n",
      "Conjunto de prueba: 0.75\n",
      "\n",
      "Exactitud de max_depth igual a 2\n",
      "Conjunto de prueba: 0.7835820895522388\n",
      "\n",
      "Exactitud de max_depth igual a 3\n",
      "Conjunto de prueba: 0.7885572139303483\n",
      "\n",
      "Exactitud de max_depth igual a 4\n",
      "Conjunto de prueba: 0.7810945273631841\n",
      "\n",
      "Exactitud de max_depth igual a 5\n",
      "Conjunto de prueba: 0.7810945273631841\n",
      "\n",
      "Exactitud de max_depth igual a 6\n",
      "Conjunto de prueba: 0.7599502487562189\n",
      "\n",
      "Exactitud de max_depth igual a 7\n",
      "Conjunto de prueba: 0.7860696517412935\n",
      "\n",
      "Exactitud de max_depth igual a 8\n",
      "Conjunto de prueba: 0.7898009950248757\n",
      "\n",
      "Exactitud de max_depth igual a 9\n",
      "Conjunto de prueba: 0.7860696517412935\n",
      "\n",
      "Exactitud de max_depth igual a 10\n",
      "Conjunto de prueba: 0.7873134328358209\n",
      "\n",
      "max_depth del modelo con mayor exactitud: 8\n",
      "Mejor exactitud: 0.7898009950248757\n"
     ]
    }
   ],
   "source": [
    "best_depth = 0\n",
    "best_score = 0\n",
    "print(f\"Árboles de Desición\")\n",
    "for depth in range(1,11):\n",
    "    model = DecisionTreeClassifier(random_state=54321, max_depth=depth)\n",
    "    model.fit(features_train,target_train)\n",
    "    score = model.score(features_valid,target_valid)\n",
    "    print(f\"Exactitud de max_depth igual a {depth}\")\n",
    "    print(f\"Conjunto de prueba: {score}\\n\")\n",
    "    \n",
    "    if score > best_score:\n",
    "        best_depth = depth\n",
    "        best_score = score\n",
    "        \n",
    "print(f\"max_depth del modelo con mayor exactitud: {best_depth}\")\n",
    "print(f\"Mejor exactitud: {best_score}\")"
   ]
  },
  {
   "cell_type": "markdown",
   "metadata": {},
   "source": [
    "Para establecer cuales es el mejor hiperparametro que va tener la mejor exactitud de nuestro modelo de `DecisionTreeClassifier`, se elaboró un bucle que va de 1 al 10 y se comparó la exactitud de cada uno. El modelo con el hiperparamtro `max_depth = 8` fue el que tuve mayor exactitud con un `0.7898`"
   ]
  },
  {
   "cell_type": "markdown",
   "metadata": {},
   "source": [
    "### Random Forest.\n",
    "\n",
    "\n",
    "Como su nombre los indica obtendremos un cinjunto de árboles de desición mejor conocido como ``RandomForest`, en el que declarremos su hiperparametro para que solo nos muestre la exactitud de 25 árboles."
   ]
  },
  {
   "cell_type": "code",
   "execution_count": 9,
   "metadata": {},
   "outputs": [
    {
     "name": "stdout",
     "output_type": "stream",
     "text": [
      "Exactitud de n_estimators igual a 1\n",
      "Mejor exactitud: 0.7151741293532339\n",
      "\n",
      "Exactitud de n_estimators igual a 2\n",
      "Mejor exactitud: 0.7674129353233831\n",
      "\n",
      "Exactitud de n_estimators igual a 3\n",
      "Mejor exactitud: 0.7686567164179104\n",
      "\n",
      "Exactitud de n_estimators igual a 4\n",
      "Mejor exactitud: 0.7885572139303483\n",
      "\n",
      "Exactitud de n_estimators igual a 5\n",
      "Mejor exactitud: 0.7848258706467661\n",
      "\n",
      "Exactitud de n_estimators igual a 6\n",
      "Mejor exactitud: 0.7860696517412935\n",
      "\n",
      "Exactitud de n_estimators igual a 7\n",
      "Mejor exactitud: 0.7835820895522388\n",
      "\n",
      "Exactitud de n_estimators igual a 8\n",
      "Mejor exactitud: 0.7835820895522388\n",
      "\n",
      "Exactitud de n_estimators igual a 9\n",
      "Mejor exactitud: 0.7798507462686567\n",
      "\n",
      "Exactitud de n_estimators igual a 10\n",
      "Mejor exactitud: 0.7798507462686567\n",
      "\n",
      "Exactitud de n_estimators igual a 11\n",
      "Mejor exactitud: 0.7748756218905473\n",
      "\n",
      "Exactitud de n_estimators igual a 12\n",
      "Mejor exactitud: 0.7848258706467661\n",
      "\n",
      "Exactitud de n_estimators igual a 13\n",
      "Mejor exactitud: 0.7835820895522388\n",
      "\n",
      "Exactitud de n_estimators igual a 14\n",
      "Mejor exactitud: 0.7860696517412935\n",
      "\n",
      "Exactitud de n_estimators igual a 15\n",
      "Mejor exactitud: 0.7823383084577115\n",
      "\n",
      "Exactitud de n_estimators igual a 16\n",
      "Mejor exactitud: 0.7848258706467661\n",
      "\n",
      "Exactitud de n_estimators igual a 17\n",
      "Mejor exactitud: 0.7848258706467661\n",
      "\n",
      "Exactitud de n_estimators igual a 18\n",
      "Mejor exactitud: 0.7873134328358209\n",
      "\n",
      "Exactitud de n_estimators igual a 19\n",
      "Mejor exactitud: 0.7885572139303483\n",
      "\n",
      "Exactitud de n_estimators igual a 20\n",
      "Mejor exactitud: 0.7910447761194029\n",
      "\n",
      "Exactitud de n_estimators igual a 21\n",
      "Mejor exactitud: 0.7810945273631841\n",
      "\n",
      "Exactitud de n_estimators igual a 22\n",
      "Mejor exactitud: 0.7860696517412935\n",
      "\n",
      "Exactitud de n_estimators igual a 23\n",
      "Mejor exactitud: 0.7823383084577115\n",
      "\n",
      "Exactitud de n_estimators igual a 24\n",
      "Mejor exactitud: 0.7898009950248757\n",
      "\n",
      "Exactitud de n_estimators igual a 25\n",
      "Mejor exactitud: 0.7873134328358209\n",
      "\n",
      "n_estimators del modelo con mayor exactitud: 20\n",
      "Mejor exactitud: 0.7910447761194029\n"
     ]
    }
   ],
   "source": [
    "best_score = 0\n",
    "best_est = 0\n",
    "for est in range(1, 26):\n",
    "    model = RandomForestClassifier(random_state=54321,n_estimators=est)\n",
    "    model.fit(features_train,target_train)\n",
    "    score = model.score(features_valid,target_valid)\n",
    "    print(f\"Exactitud de n_estimators igual a {est}\")\n",
    "    print(f\"Mejor exactitud: {score}\\n\")\n",
    "    \n",
    "    if score > best_score:\n",
    "        best_est = est\n",
    "        best_score = score\n",
    "\n",
    "print(f\"n_estimators del modelo con mayor exactitud: {best_est}\")\n",
    "print(f\"Mejor exactitud: {best_score}\")"
   ]
  },
  {
   "cell_type": "markdown",
   "metadata": {},
   "source": [
    "### Regresión Logística"
   ]
  },
  {
   "cell_type": "code",
   "execution_count": 10,
   "metadata": {},
   "outputs": [
    {
     "name": "stdout",
     "output_type": "stream",
     "text": [
      "Exactitud del modelo en el conjunto de validación: 0.7599502487562189\n"
     ]
    }
   ],
   "source": [
    "model = LogisticRegression(random_state=54321)\n",
    "model.fit(features_train,target_train)\n",
    "score = model.score(features_valid,target_valid)\n",
    "print(f\"Exactitud del modelo en el conjunto de validación: {score}\")"
   ]
  },
  {
   "cell_type": "markdown",
   "metadata": {},
   "source": [
    "### ¿Qué modelo es el mejor?\n",
    "\n",
    "Se entraron 3 modelos diferentes para saber cual es el que tiene  mejor exactitud y el que mejor conviene usar.\n",
    "\n",
    "Exactitud: El modelo que tuvo la mejor exactitud fueron RandomForest, en segundo DecisionTree y por último LogisticRegression.\n",
    "\n",
    "Velocidad: El modelo que más trado en procesar, debido al número de iteraciones, fue el RandomForest con 1.2 segundos. Lo más rapidos fueron  y LogisticRegression con menos de un segundo.\n",
    "\n",
    "El modelo con el que vamos a trabajar es **RandomForest**."
   ]
  },
  {
   "cell_type": "code",
   "execution_count": 11,
   "metadata": {},
   "outputs": [
    {
     "data": {
      "text/plain": [
       "['model.joblib']"
      ]
     },
     "execution_count": 11,
     "metadata": {},
     "output_type": "execute_result"
    }
   ],
   "source": [
    "#Entrenamos el modelo con todos elementos del dataset y lo guardamos.\n",
    "import joblib\n",
    "features = df.drop('is_ultra',axis=1)\n",
    "target = df['is_ultra']\n",
    "model = RandomForestClassifier(random_state=54321,n_estimators=20)\n",
    "model.fit(features,target)\n",
    "joblib.dump(model,'model.joblib')"
   ]
  },
  {
   "cell_type": "markdown",
   "metadata": {},
   "source": [
    "### Paso 4. Tarea adicional: haz una prueba de cordura al modelo.\n",
    "\n",
    "Estos datos son más complejos que los que habías usado antes así que no será una tarea fácil. Más adelante lo veremos con más detalle.\n",
    "\n",
    "Se realizaron dos pruebas."
   ]
  },
  {
   "cell_type": "markdown",
   "metadata": {},
   "source": [
    "La función `test_predicitons` establece y calcula que plan le conviene al usuario tener de acuerdo a la predición del modelo."
   ]
  },
  {
   "cell_type": "code",
   "execution_count": 12,
   "metadata": {},
   "outputs": [],
   "source": [
    "def test_prediction(x):\n",
    "    predictions = model.predict(x)\n",
    "    print(x,\"\\n\")\n",
    "    for index,prediction in enumerate(predictions):\n",
    "        name = x.iloc[index].name\n",
    "        if prediction == 0:\n",
    "            print(f\"Al usuario {name+1} le conviene el plan smart.\\n\")\n",
    "        else:\n",
    "            print(f\"Al usuario {name+1} le conviene el plan ultra.\\n\")"
   ]
  },
  {
   "cell_type": "markdown",
   "metadata": {},
   "source": [
    "#### Prueba 1.\n",
    "\n",
    "Obtendremos promedio, mediana, máximo y mínimo de cada columna para descubrir si estos \"usuarios\" son recomendados por el modelo para que tengan plan `ultra` o `smart`."
   ]
  },
  {
   "cell_type": "code",
   "execution_count": 13,
   "metadata": {},
   "outputs": [],
   "source": [
    "dict_mean = {}\n",
    "dict_median = {}\n",
    "dict_max = {}\n",
    "dict_min = {}\n",
    "df_test = df.copy()\n",
    "df_test = df_test.drop('is_ultra',axis=1)\n",
    "for i in df_test.columns:\n",
    "    dict_mean[i] = df[i].mean()\n",
    "    dict_median[i] = df[i].median()\n",
    "    dict_max[i] = df[i].max()\n",
    "    dict_min[i] = df[i].min()"
   ]
  },
  {
   "cell_type": "code",
   "execution_count": 14,
   "metadata": {},
   "outputs": [
    {
     "name": "stdout",
     "output_type": "stream",
     "text": [
      "             calls      minutes    messages       mb_used\n",
      "mean     63.038892   438.208787   38.281269  17207.673836\n",
      "median   62.000000   430.600000   30.000000  16943.235000\n",
      "max     244.000000  1632.060000  224.000000  49745.730000\n",
      "min       0.000000     0.000000    0.000000      0.000000\n",
      "\n",
      "\n",
      "El plan del usuario 'mean' es smart\n",
      "\n",
      "\n",
      "El plan del usuario 'median' es smart\n",
      "\n",
      "\n",
      "El plan del usuario 'max' es ultra\n",
      "\n",
      "\n",
      "El plan del usuario 'min' es ultra\n"
     ]
    }
   ],
   "source": [
    "test_values = pd.DataFrame([dict_mean,dict_median,dict_max,dict_min],index=['mean','median','max','min'])\n",
    "print(test_values)\n",
    "predictions = model.predict(test_values)\n",
    "predictions\n",
    "for index,prediction in enumerate(predictions):\n",
    "    name = test_values.iloc[index].name\n",
    "    print(\"\\n\")\n",
    "    if prediction == 0:\n",
    "        print(f\"El plan del usuario '{name}' es smart\")\n",
    "    else:\n",
    "        print(f\"El plan del usuario '{name}' es ultra\")"
   ]
  },
  {
   "cell_type": "markdown",
   "metadata": {},
   "source": [
    "Obtuvimos que los usuario `mean` y `median` le recomiendan el plan `smart`. Por otro lado, los usuarios `max` y `min` les recomendaron el plan `ultra`. Recordemos que nuestro modelo tuvo una exactitud de `0.79`.\n",
    "\n",
    "Resultados que su obtuvieron, en una tabla:\n",
    "\n",
    "| Usuario   | Plan recomendado|\n",
    "|:---------:|:---------------:|\n",
    "| mean      | smart           |\n",
    "| median    | smart           |\n",
    "| max       | ultra           |\n",
    "| min       |  ultra          |"
   ]
  },
  {
   "cell_type": "markdown",
   "metadata": {},
   "source": [
    "#### Prueba 2.\n",
    "\n",
    "\n",
    "Realizaremos otra simulación creando un dataset donde los valores de la columnas se llanarán con valores aleatorios que se encuentran en el dataset original."
   ]
  },
  {
   "cell_type": "code",
   "execution_count": 15,
   "metadata": {},
   "outputs": [
    {
     "name": "stdout",
     "output_type": "stream",
     "text": [
      "   calls  minutes  messages   mb_used\n",
      "0   91.0   250.56       0.0  22268.87\n",
      "1  128.0   442.22      12.0  15811.56\n",
      "2   50.0   499.29      79.0  13572.96\n",
      "3  126.0  1184.93      35.0  21445.05\n",
      "4   24.0   155.22      17.0  21969.01\n",
      "5   52.0   146.18      75.0  31239.78\n",
      "6   40.0   702.47      19.0  19921.86\n",
      "7  160.0   108.69      21.0   7357.66\n",
      "8   72.0   338.91      27.0   9766.09 \n",
      "\n",
      "Al usuario 1 le conviene el plan smart.\n",
      "\n",
      "Al usuario 2 le conviene el plan smart.\n",
      "\n",
      "Al usuario 3 le conviene el plan smart.\n",
      "\n",
      "Al usuario 4 le conviene el plan smart.\n",
      "\n",
      "Al usuario 5 le conviene el plan smart.\n",
      "\n",
      "Al usuario 6 le conviene el plan ultra.\n",
      "\n",
      "Al usuario 7 le conviene el plan smart.\n",
      "\n",
      "Al usuario 8 le conviene el plan ultra.\n",
      "\n",
      "Al usuario 9 le conviene el plan smart.\n",
      "\n"
     ]
    }
   ],
   "source": [
    "list = []\n",
    "dict = {}\n",
    "random.seed(41)\n",
    "columns = ['calls', 'minutes', 'messages', 'mb_used']\n",
    "for column in columns:\n",
    "        list.append([random.choice(df[column]) for x in range(1,10)])\n",
    "for index,column in enumerate(columns):\n",
    "    dict[column] = list[index]\n",
    "test_prediction(pd.DataFrame(dict))"
   ]
  },
  {
   "cell_type": "markdown",
   "metadata": {},
   "source": [
    "Con el dataset hecho aletoriamente nos dió como resultado 7 usuarios dieron con el plan `smart` y el resto con `ultra`.\n",
    "\n",
    "Resultados:\n",
    "\n",
    "| Usuario   | Plan recomendado|\n",
    "|:---------:|:---------------:|\n",
    "| 1      | smart           |\n",
    "| 2    | smart         |\n",
    "| 3       | smart           |\n",
    "| 4       |  smart          |\n",
    "| 5       |  smart          |\n",
    "| 7       |  ultra          |\n",
    "| 7       |  smart          |\n",
    "| 8       |  ultra          |\n",
    "| 9      |  smart          |"
   ]
  },
  {
   "cell_type": "markdown",
   "metadata": {},
   "source": [
    "### Conclusiones."
   ]
  },
  {
   "cell_type": "markdown",
   "metadata": {},
   "source": [
    "Entrenamos lo datos con 3 tipos de algoritmos diferentes que se consideraron los mejores para predecir la recomendación del plan del usuario. El primero que se puso a prueba fue Árboles de Decisión el cual tuvo un exactitud media pero la velocidad de entrenamiento fue la más rapida. El segundo modelo fue Bosques Aleatorios que tuvo una exactitud alta y velocidad media. Por último, Regresión Logística, a pesar de que fue el más rápido en ser entrenado, su exactitud fue la más baja. El rango de exactitud de los modelos fue de 0.76 a 0.79. Si se quisiera mayor exactitud, debemos tener en cuenta con la velocidad de entrenamiento no será muy rápido y viceversa. Para definir que modelo es el mejor, se deben considerar el tamaño del dataset y estas 2 características.\n",
    "\n",
    "\n",
    "Poniendo los criterios en una tabla:\n",
    "\n",
    "| Modelos            | Exactitud     | Velocidad |\n",
    "| -----------       |:-------------:| -----:|\n",
    "| RandomForest      | Alta  (0.791)        | Media |\n",
    "| DecisionTree      | Media (0.7898)        |  Alta |\n",
    "| LogisticRegresion | Baja (0.76)          |  Alta |"
   ]
  }
 ],
 "metadata": {
  "kernelspec": {
   "display_name": "Python 3",
   "language": "python",
   "name": "python3"
  },
  "language_info": {
   "codemirror_mode": {
    "name": "ipython",
    "version": 3
   },
   "file_extension": ".py",
   "mimetype": "text/x-python",
   "name": "python",
   "nbconvert_exporter": "python",
   "pygments_lexer": "ipython3",
   "version": "3.11.8"
  }
 },
 "nbformat": 4,
 "nbformat_minor": 2
}
